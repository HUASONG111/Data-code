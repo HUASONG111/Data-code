{
 "cells": [
  {
   "cell_type": "code",
   "execution_count": null,
   "id": "309af780",
   "metadata": {},
   "outputs": [],
   "source": [
    "import numpy as np\n",
    "import pandas as pd\n",
    "import matplotlib.pyplot as plt\n",
    "from matplotlib.colors import ListedColormap\n",
    "import cartopy.crs as ccrs\n",
    "import cartopy.feature as cfeature\n",
    "import os\n",
    "from matplotlib.colors import LinearSegmentedColormap\n",
    "from matplotlib.colors import PowerNorm\n",
    "from matplotlib.ticker import MaxNLocator\n",
    "import matplotlib.colors as mcolors\n",
    "from matplotlib.colors import ListedColormap"
   ]
  },
  {
   "cell_type": "code",
   "execution_count": null,
   "id": "6071fd23",
   "metadata": {},
   "outputs": [
    {
     "name": "stdout",
     "output_type": "stream",
     "text": [
      "(5, 5)\n",
      "(5, 5)\n",
      "(5, 5)\n",
      "(5, 5)\n"
     ]
    }
   ],
   "source": [
    "def load_data(filepath):\n",
    "    data = pd.read_csv(filepath, header=None).values[:, 3]\n",
    "    southeast = data[0:25].reshape(5, 5).T\n",
    "    print(southeast.shape)\n",
    "    combined = southeast\n",
    "    return combined\n",
    "\n",
    "## Please change the following paths to match your own file locations.\n",
    "data_root = '/Users/huasong/Desktop/data/2.Single point results/' \n",
    "\n",
    "po4_file = os.path.join(data_root, 'duration_po4.csv')\n",
    "no3_file = os.path.join(data_root, 'duration_no3.csv')\n",
    "sst_file = os.path.join(data_root, 'duration_sst.csv')\n",
    "ssw_file = os.path.join(data_root, 'duration_ssw.csv')\n",
    "PO4 = load_data(po4_file)\n",
    "NO3 = load_data(no3_file)\n",
    "SST = load_data(sst_file)\n",
    "SSW = load_data(ssw_file)\n",
    "\n",
    "lat = np.linspace(-41, -40, 5)  \n",
    "lon = np.linspace(2, 3, 5) \n",
    "Lon, Lat = np.meshgrid(lon, lat)\n"
   ]
  },
  {
   "cell_type": "code",
   "execution_count": null,
   "id": "52e471c5",
   "metadata": {},
   "outputs": [
    {
     "data": {
      "image/png": "[encoded data removed]",
      "text/plain": [
       "<Figure size 709x669.3 with 5 Axes>"
      ]
     },
     "metadata": {},
     "output_type": "display_data"
    }
   ],
   "source": [
    "def plot_map(ax, data, title, cmap):\n",
    "    ax.set_extent([2, 3, -41, -40], crs=ccrs.PlateCarree())\n",
    "    ax.coastlines(color='black', linewidth=1)\n",
    "    ax.add_feature(cfeature.LAND, facecolor='lightgrey')\n",
    "    mesh = ax.pcolormesh(Lon, Lat, data, transform=ccrs.PlateCarree(),\n",
    "                         cmap=cmap, vmin=-0.5, vmax=16.5, shading='auto')\n",
    "    ax.set_title(title, fontsize=8, fontweight='bold', loc='left', fontname='Arial')\n",
    "    return mesh\n",
    "\n",
    "colors = [\n",
    "    (0,0,0),(100, 130, 245), (114, 147, 250), (131, 165, 254), (147, 179, 254),\n",
    "    (162, 190, 249), (177, 200, 243), (193, 208, 231), (207, 211, 219),\n",
    "    (219, 208, 201), (231, 198, 182), (240, 187, 160), (242, 173, 143),\n",
    "    (244, 155, 125), (239, 136, 105), (233, 118, 91), (233, 97, 73)\n",
    "]\n",
    "\n",
    "colors = [tuple(c/255 for c in color) for color in colors]\n",
    "\n",
    "\n",
    "cmap = plt.cm.colors.ListedColormap(colors)\n",
    "\n",
    "colors_array = cmap(np.linspace(0, 1, 17))\n",
    "\n",
    "custom_cmap = ListedColormap(colors_array)\n",
    "\n",
    "fig, axes = plt.subplots(2, 2, subplot_kw={'projection': ccrs.Robinson()}, figsize=(7.09, 6.693))\n",
    "meshes = []\n",
    "\n",
    "\n",
    "datasets = [\n",
    "    (PO4, '(a) PO$_4$'),\n",
    "    (NO3, '(b) NO$_3$'),\n",
    "    (SST, '(c) SST'),\n",
    "    (SSW, '(d) SSW')\n",
    "]\n",
    "\n",
    "\n",
    "max_all = 0\n",
    "for ax, (data, label) in zip(axes.ravel(), datasets):\n",
    "    vmax = int(np.max(data))\n",
    "    max_all = max(max_all, vmax)\n",
    "    mesh = plot_map(ax, data, label, custom_cmap)\n",
    "    meshes.append(mesh)\n",
    "\n",
    "plt.subplots_adjust(left=0.07, right=0.93, top=0.96, bottom=0.3, hspace=0.12, wspace=0.05)\n",
    "\n",
    "\n",
    "    \n",
    "\n",
    "\n",
    "ticks = np.arange(0, 17, 1)\n",
    "labels = [str(i) for i in range(0, 17)]\n",
    "\n",
    "cbar = fig.colorbar(meshes[0], ax=axes, orientation='horizontal', shrink=1.0, pad=0.02)\n",
    "cbar.set_ticks(ticks)\n",
    "cbar.set_ticklabels(labels)\n",
    "cbar.set_label('Lag Onset Time (day)', fontsize=8, fontweight='bold', fontname='Arial')\n",
    "cbar.ax.tick_params(labelsize=8)\n",
    "for tick in cbar.ax.get_xticklabels():\n",
    "    tick.set_fontname('Arial')\n",
    "\n",
    "## Please change the following paths to match your own file locations.\n",
    "# plt.savefig('/Users/huasong/Desktop/zhihoukaishi_gamma.png', dpi=600, bbox_inches='tight')\n",
    "plt.show()"
   ]
  },
  {
   "cell_type": "code",
   "execution_count": null,
   "id": "14092a28",
   "metadata": {},
   "outputs": [],
   "source": []
  }
 ],
 "metadata": {
  "kernelspec": {
   "display_name": "base",
   "language": "python",
   "name": "python3"
  },
  "language_info": {
   "codemirror_mode": {
    "name": "ipython",
    "version": 3
   },
   "file_extension": ".py",
   "mimetype": "text/x-python",
   "name": "python",
   "nbconvert_exporter": "python",
   "pygments_lexer": "ipython3",
   "version": "3.12.7"
  }
 },
 "nbformat": 4,
 "nbformat_minor": 5
}
